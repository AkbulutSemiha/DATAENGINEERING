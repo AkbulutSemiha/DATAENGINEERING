{
  "nbformat": 4,
  "nbformat_minor": 0,
  "metadata": {
    "colab": {
      "name": "Untitled2.ipynb",
      "provenance": [],
      "mount_file_id": "1DrZCVNU74LNXi0evI5FDRH-rdzgPHZdI",
      "authorship_tag": "ABX9TyOKz+sgKJ7LkpFLhMIWnRBI",
      "include_colab_link": true
    },
    "kernelspec": {
      "name": "python3",
      "display_name": "Python 3"
    },
    "language_info": {
      "name": "python"
    }
  },
  "cells": [
    {
      "cell_type": "markdown",
      "metadata": {
        "id": "view-in-github",
        "colab_type": "text"
      },
      "source": [
        "<a href=\"https://colab.research.google.com/github/AkbulutSemiha/DATAENGINEERING/blob/main/Answers.ipynb\" target=\"_parent\"><img src=\"https://colab.research.google.com/assets/colab-badge.svg\" alt=\"Open In Colab\"/></a>"
      ]
    },
    {
      "cell_type": "code",
      "metadata": {
        "colab": {
          "base_uri": "https://localhost:8080/"
        },
        "id": "12t6pSe7dJD4",
        "outputId": "35857245-8d67-4107-b322-7fc08fae8d89"
      },
      "source": [
        "import pandas as pd\n",
        "import numpy as np\n",
        "from collections import Counter\n",
        "\n",
        "#Answer 4\n",
        "def fill_missing_value(country_group,d_columns):\n",
        "  df =pd.DataFrame(columns = d_columns)\n",
        "  for country, frame in country_group:\n",
        "    if frame['daily_vaccinations'].sum()== 0.0:\n",
        "      frame['daily_vaccinations'].fillna(0, inplace=True)\n",
        "      \n",
        "    else:\n",
        "      min_value = frame[\"daily_vaccinations\"].min()\n",
        "      frame['daily_vaccinations'].fillna(min_value, inplace=True)\n",
        "    frame[\"country\"]=country\n",
        "    df= df.append(frame,ignore_index=True)\n",
        "  print(\"Filling Missing values\")\n",
        "  print(df)\n",
        "  return df\n",
        "# Answer 5\n",
        "def take_top_3_countries(df):\n",
        "  median_list={}\n",
        "  for country, frame in country_group:\n",
        "    med= frame['daily_vaccinations'].median()\n",
        "    median_list[country]=med\n",
        "  count = Counter(median_list)\n",
        "  top_3 =count.most_common(3) \n",
        "  print(\"Top-3 countries with highest median daily vaccination\")\n",
        "  print(top_3)\n",
        "\n",
        "#Answer 6\n",
        "def find_total_vaccinations(df, date):\n",
        "  m_sum=0\n",
        "  m_list= list (df['date'].loc[lambda x: x=='1/6/2021'].index)\n",
        "  for i in m_list:\n",
        "    m_sum += df['daily_vaccinations'].iloc[i]\n",
        "  print(m_sum)\n",
        "\n",
        "dataset = pd.read_csv(\"/content/sample_data/country_vaccination_stats.csv\")\n",
        "country_group= dataset.groupby(\"country\")\n",
        "df=fill_missing_value(country_group,list(dataset.columns.values))\n",
        "take_top_3_countries(df)\n",
        "\n",
        "find_total_vaccinations(df,'1/6/2021')"
      ],
      "execution_count": 57,
      "outputs": [
        {
          "output_type": "stream",
          "text": [
            "[('United States', 399093.0), ('China', 299107.5), ('India', 182551.5)]\n",
            "1485255.0\n"
          ],
          "name": "stdout"
        }
      ]
    },
    {
      "cell_type": "markdown",
      "metadata": {
        "id": "6Rn3bpRHdL8y"
      },
      "source": [
        "# Yeni Bölüm"
      ]
    }
  ]
}